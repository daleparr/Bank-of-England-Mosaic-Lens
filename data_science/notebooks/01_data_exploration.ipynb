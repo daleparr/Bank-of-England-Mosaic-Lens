{
 "cells": [
  {
   "cell_type": "markdown",
   "metadata": {},
   "source": [
    "# Data Exploration Template\n",
    "\n",
    "This notebook provides a template for exploratory data analysis (EDA).\n",
    "\n",
    "## Table of Contents\n",
    "1. [Setup and Imports](#setup)\n",
    "2. [Data Loading](#loading)\n",
    "3. [Data Overview](#overview)\n",
    "4. [Data Quality Assessment](#quality)\n",
    "5. [Univariate Analysis](#univariate)\n",
    "6. [Bivariate Analysis](#bivariate)\n",
    "7. [Multivariate Analysis](#multivariate)\n",
    "8. [Key Insights](#insights)\n",
    "9. [Next Steps](#next-steps)"
   ]
  },
  {
   "cell_type": "markdown",
   "metadata": {},
   "source": [
    "## 1. Setup and Imports {#setup}"
   ]
  },
  {
   "cell_type": "code",
   "execution_count": null,
   "metadata": {},
   "outputs": [],
   "source": [
    "# Standard imports\n",
    "import pandas as pd\n",
    "import numpy as np\n",
    "import matplotlib.pyplot as plt\n",
    "import seaborn as sns\n",
    "import warnings\n",
    "from pathlib import Path\n",
    "\n",
    "# Custom utilities\n",
    "import sys\n",
    "sys.path.append('../scripts')\n",
    "from data_utils import load_config, load_data, explore_data, plot_correlation_matrix, plot_missing_values\n",
    "\n",
    "# Configuration\n",
    "warnings.filterwarnings('ignore')\n",
    "plt.style.use('seaborn-v0_8')\n",
    "sns.set_palette('Set2')\n",
    "\n",
    "# Display options\n",
    "pd.set_option('display.max_columns', None)\n",
    "pd.set_option('display.max_rows', 100)\n",
    "\n",
    "print(\"Setup completed successfully!\")"
   ]
  },
  {
   "cell_type": "markdown",
   "metadata": {},
   "source": [
    "## 2. Data Loading {#loading}"
   ]
  },
  {
   "cell_type": "code",
   "execution_count": null,
   "metadata": {},
   "outputs": [],
   "source": [
    "# Load configuration\n",
    "config = load_config('../config/config.yaml')\n",
    "\n",
    "# Load your data here\n",
    "# Example: df = load_data('../data/raw/your_dataset.csv')\n",
    "# For demonstration, we'll create sample data\n",
    "\n",
    "# Create sample dataset\n",
    "np.random.seed(42)\n",
    "n_samples = 1000\n",
    "\n",
    "df = pd.DataFrame({\n",
    "    'age': np.random.randint(18, 80, n_samples),\n",
    "    'income': np.random.normal(50000, 15000, n_samples),\n",
    "    'education': np.random.choice(['High School', 'Bachelor', 'Master', 'PhD'], n_samples),\n",
    "    'experience': np.random.randint(0, 40, n_samples),\n",
    "    'satisfaction': np.random.randint(1, 11, n_samples),\n",
    "    'department': np.random.choice(['Sales', 'Engineering', 'Marketing', 'HR'], n_samples),\n",
    "    'performance_score': np.random.normal(75, 10, n_samples)\n",
    "})\n",
    "\n",
    "# Introduce some missing values\n",
    "missing_indices = np.random.choice(df.index, size=50, replace=False)\n",
    "df.loc[missing_indices, 'income'] = np.nan\n",
    "\n",
    "print(f\"Dataset loaded successfully! Shape: {df.shape}\")"
   ]
  },
  {
   "cell_type": "markdown",
   "metadata": {},
   "source": [
    "## 3. Data Overview {#overview}"
   ]
  },
  {
   "cell_type": "code",
   "execution_count": null,
   "metadata": {},
   "outputs": [],
   "source": [
    "# Basic information about the dataset\n",
    "explore_data(df)"
   ]
  },
  {
   "cell_type": "code",
   "execution_count": null,
   "metadata": {},
   "outputs": [],
   "source": [
    "# Display first few rows\n",
    "print(\"First 5 rows:\")\n",
    "display(df.head())\n",
    "\n",
    "print(\"\\nLast 5 rows:\")\n",
    "display(df.tail())"
   ]
  },
  {
   "cell_type": "markdown",
   "metadata": {},
   "source": [
    "## 4. Data Quality Assessment {#quality}"
   ]
  },
  {
   "cell_type": "code",
   "execution_count": null,
   "metadata": {},
   "outputs": [],
   "source": [
    "# Check for duplicates\n",
    "duplicates = df.duplicated().sum()\n",
    "print(f\"Number of duplicate rows: {duplicates}\")\n",
    "\n",
    "# Check data types\n",
    "print(\"\\nData types:\")\n",
    "print(df.dtypes)\n",
    "\n",
    "# Check for outliers in numerical columns\n",
    "numerical_cols = df.select_dtypes(include=[np.number]).columns\n",
    "print(f\"\\nNumerical columns: {list(numerical_cols)}\")"
   ]
  },
  {
   "cell_type": "code",
   "execution_count": null,
   "metadata": {},
   "outputs": [],
   "source": [
    "# Visualize missing values\n",
    "plot_missing_values(df)"
   ]
  },
  {
   "cell_type": "markdown",
   "metadata": {},
   "source": [
    "## 5. Univariate Analysis {#univariate}"
   ]
  },
  {
   "cell_type": "code",
   "execution_count": null,
   "metadata": {},
   "outputs": [],
   "source": [
    "# Distribution of numerical variables\n",
    "fig, axes = plt.subplots(2, 2, figsize=(15, 10))\n",
    "axes = axes.ravel()\n",
    "\n",
    "for i, col in enumerate(numerical_cols[:4]):\n",
    "    df[col].hist(bins=30, ax=axes[i], alpha=0.7)\n",
    "    axes[i].set_title(f'Distribution of {col}')\n",
    "    axes[i].set_xlabel(col)\n",
    "    axes[i].set_ylabel('Frequency')\n",
    "\n",
    "plt.tight_layout()\n",
    "plt.show()"
   ]
  },
  {
   "cell_type": "code",
   "execution_count": null,
   "metadata": {},
   "outputs": [],
   "source": [
    "# Box plots for numerical variables\n",
    "fig, axes = plt.subplots(2, 2, figsize=(15, 10))\n",
    "axes = axes.ravel()\n",
    "\n",
    "for i, col in enumerate(numerical_cols[:4]):\n",
    "    df.boxplot(column=col, ax=axes[i])\n",
    "    axes[i].set_title(f'Box Plot of {col}')\n",
    "\n",
    "plt.tight_layout()\n",
    "plt.show()"
   ]
  },
  {
   "cell_type": "code",
   "execution_count": null,
   "metadata": {},
   "outputs": [],
   "source": [
    "# Categorical variables\n",
    "categorical_cols = df.select_dtypes(include=['object']).columns\n",
    "\n",
    "fig, axes = plt.subplots(1, len(categorical_cols), figsize=(15, 5))\n",
    "if len(categorical_cols) == 1:\n",
    "    axes = [axes]\n",
    "\n",
    "for i, col in enumerate(categorical_cols):\n",
    "    df[col].value_counts().plot(kind='bar', ax=axes[i])\n",
    "    axes[i].set_title(f'Distribution of {col}')\n",
    "    axes[i].tick_params(axis='x', rotation=45)\n",
    "\n",
    "plt.tight_layout()\n",
    "plt.show()"
   ]
  },
  {
   "cell_type": "markdown",
   "metadata": {},
   "source": [
    "## 6. Bivariate Analysis {#bivariate}"
   ]
  },
  {
   "cell_type": "code",
   "execution_count": null,
   "metadata": {},
   "outputs": [],
   "source": [
    "# Correlation matrix\n",
    "plot_correlation_matrix(df)"
   ]
  },
  {
   "cell_type": "code",
   "execution_count": null,
   "metadata": {},
   "outputs": [],
   "source": [
    "# Scatter plots for key relationships\n",
    "fig, axes = plt.subplots(2, 2, figsize=(15, 10))\n",
    "\n",
    "# Example relationships\n",
    "df.plot.scatter(x='age', y='income', ax=axes[0,0], alpha=0.6)\n",
    "axes[0,0].set_title('Age vs Income')\n",
    "\n",
    "df.plot.scatter(x='experience', y='performance_score', ax=axes[0,1], alpha=0.6)\n",
    "axes[0,1].set_title('Experience vs Performance Score')\n",
    "\n",
    "df.plot.scatter(x='age', y='experience', ax=axes[1,0], alpha=0.6)\n",
    "axes[1,0].set_title('Age vs Experience')\n",
    "\n",
    "df.plot.scatter(x='satisfaction', y='performance_score', ax=axes[1,1], alpha=0.6)\n",
    "axes[1,1].set_title('Satisfaction vs Performance Score')\n",
    "\n",
    "plt.tight_layout()\n",
    "plt.show()"
   ]
  },
  {
   "cell_type": "code",
   "execution_count": null,
   "metadata": {},
   "outputs": [],
   "source": [
    "# Group analysis\n",
    "print(\"Average performance score by department:\")\n",
    "dept_performance = df.groupby('department')['performance_score'].agg(['mean', 'std', 'count'])\n",
    "display(dept_performance)\n",
    "\n",
    "# Visualize\n",
    "plt.figure(figsize=(10, 6))\n",
    "df.boxplot(column='performance_score', by='department')\n",
    "plt.title('Performance Score by Department')\n",
    "plt.suptitle('')  # Remove default title\n",
    "plt.xticks(rotation=45)\n",
    "plt.show()"
   ]
  },
  {
   "cell_type": "markdown",
   "metadata": {},
   "source": [
    "## 7. Multivariate Analysis {#multivariate}"
   ]
  },
  {
   "cell_type": "code",
   "execution_count": null,
   "metadata": {},
   "outputs": [],
   "source": [
    "# Pair plot for numerical variables\n",
    "numerical_subset = df[numerical_cols].select_dtypes(include=[np.number])\n",
    "if len(numerical_subset.columns) <= 5:  # Only if not too many variables\n",
    "    sns.pairplot(numerical_subset)\n",
    "    plt.show()\n",
    "else:\n",
    "    print(\"Too many numerical variables for pair plot. Consider selecting a subset.\")"
   ]
  },
  {
   "cell_type": "code",
   "execution_count": null,
   "metadata": {},
   "outputs": [],
   "source": [
    "# Grouped analysis\n",
    "plt.figure(figsize=(12, 8))\n",
    "for i, dept in enumerate(df['department'].unique()):\n",
    "    dept_data = df[df['department'] == dept]\n",
    "    plt.scatter(dept_data['age'], dept_data['income'], label=dept, alpha=0.6)\n",
    "\n",
    "plt.xlabel('Age')\n",
    "plt.ylabel('Income')\n",
    "plt.title('Age vs Income by Department')\n",
    "plt.legend()\n",
    "plt.show()"
   ]
  },
  {
   "cell_type": "markdown",
   "metadata": {},
   "source": [
    "## 8. Key Insights {#insights}\n",
    "\n",
    "Based on the exploratory data analysis, here are the key insights:\n",
    "\n",
    "### Data Quality\n",
    "- Dataset contains X rows and Y columns\n",
    "- Missing values found in: [list columns with missing values]\n",
    "- No duplicate rows detected\n",
    "\n",
    "### Distribution Insights\n",
    "- [Describe key patterns in distributions]\n",
    "- [Note any skewness or outliers]\n",
    "\n",
    "### Relationships\n",
    "- [Describe key correlations found]\n",
    "- [Note interesting bivariate relationships]\n",
    "\n",
    "### Business Insights\n",
    "- [Translate statistical findings to business context]\n",
    "- [Highlight actionable insights]\n"
   ]
  },
  {
   "cell_type": "markdown",
   "metadata": {},
   "source": [
    "## 9. Next Steps {#next-steps}\n",
    "\n",
    "Based on this analysis, the recommended next steps are:\n",
    "\n",
    "1. **Data Cleaning**: \n",
    "   - Handle missing values in [specific columns]\n",
    "   - Address outliers in [specific variables]\n",
    "\n",
    "2. **Feature Engineering**:\n",
    "   - Create new features based on [insights found]\n",
    "   - Transform variables as needed\n",
    "\n",
    "3. **Modeling**:\n",
    "   - Consider [specific modeling approaches] based on the data characteristics\n",
    "   - Focus on [key variables] as predictors\n",
    "\n",
    "4. **Further Analysis**:\n",
    "   - Investigate [specific patterns] in more detail\n",
    "   - Collect additional data on [specific aspects]\n"
   ]
  },
  {
   "cell_type": "code",
   "execution_count": null,
   "metadata": {},
   "outputs": [],
   "source": [
    "# Save processed data for next steps\n",
    "# df.to_csv('../data/processed/explored_data.csv', index=False)\n",
    "print(\"Analysis completed!\")"
   ]
  }
 ],
 "metadata": {
  "kernelspec": {
   "display_name": "Python 3",
   "language": "python",
   "name": "python3"
  },
  "language_info": {
   "codemirror_mode": {
    "name": "ipython",
    "version": 3
   },
   "file_extension": ".py",
   "mimetype": "text/x-python",
   "name": "python",
   "nbconvert_exporter": "python",
   "pygments_lexer": "ipython3",
   "version": "3.8.5"
  }
 },
 "nbformat": 4,
 "nbformat_minor": 4
}